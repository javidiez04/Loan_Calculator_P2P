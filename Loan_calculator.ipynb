{
 "cells": [
  {
   "cell_type": "markdown",
   "metadata": {},
   "source": [
    "This is the sheet for computing Zopa's business case, in which we have to give a borrower the lowet interest rate possible based on a pool of assets that the company manages."
   ]
  },
  {
   "cell_type": "code",
   "execution_count": 1,
   "metadata": {},
   "outputs": [],
   "source": [
    "import pandas as pd\n",
    "import numpy as np"
   ]
  },
  {
   "cell_type": "code",
   "execution_count": 7,
   "metadata": {},
   "outputs": [],
   "source": [
    "data = pd.read_csv(\"Data/Zopa_data.csv\")"
   ]
  },
  {
   "cell_type": "code",
   "execution_count": 8,
   "metadata": {
    "scrolled": true
   },
   "outputs": [],
   "source": [
    "from LoanCalculatorFunction.LoanCalculator import interest_giver"
   ]
  },
  {
   "cell_type": "code",
   "execution_count": 9,
   "metadata": {},
   "outputs": [
    {
     "data": {
      "text/plain": [
       "0.07089230769230769"
      ]
     },
     "execution_count": 9,
     "metadata": {},
     "output_type": "execute_result"
    }
   ],
   "source": [
    "interest_giver (data, 1300)"
   ]
  },
  {
   "cell_type": "code",
   "execution_count": null,
   "metadata": {},
   "outputs": [],
   "source": [
    "def interest_giver (x,y):\n",
    "    if y < 1000 or y > 15000:\n",
    "        return \"The loan amount should be between 1000 and 15000\"\n",
    "    elif y % 100 != 0:\n",
    "        return \"The loan amount must be a multiple of 100\"\n",
    "    elif y > sum(x[\"Available\"]):\n",
    "        return \"Your loan could not be processed, not enough funds\"\n",
    "    else:\n",
    "        min_rate = min(x[\"Rate\"])\n",
    "        x = x.sort_values(by = \"Rate\")\n",
    "        suma = 0\n",
    "        i = 0\n",
    "        rates = []\n",
    "        while suma < y:\n",
    "            suma += x.iloc[i,2]\n",
    "            rates.append(x.iloc[i,1])\n",
    "            i += 1\n",
    "        excess = suma - y\n",
    "        ponderado = (x.iloc[i-1,2] - excess)*(x.iloc[i-1,1])\n",
    "        for n in range(0,i-1):\n",
    "            ponderado += x.iloc[n,1]*x.iloc[n,2]\n",
    "        interest_rate = ponderado/y\n",
    "        return interest_rate"
   ]
  }
 ],
 "metadata": {
  "kernelspec": {
   "display_name": "Python 3",
   "language": "python",
   "name": "python3"
  },
  "language_info": {
   "codemirror_mode": {
    "name": "ipython",
    "version": 3
   },
   "file_extension": ".py",
   "mimetype": "text/x-python",
   "name": "python",
   "nbconvert_exporter": "python",
   "pygments_lexer": "ipython3",
   "version": "3.6.9"
  }
 },
 "nbformat": 4,
 "nbformat_minor": 4
}
