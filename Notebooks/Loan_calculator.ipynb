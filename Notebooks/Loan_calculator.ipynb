{
 "cells": [
  {
   "cell_type": "markdown",
   "metadata": {},
   "source": [
    "This is the sheet for computing Zopa's business case, in which we have to give a borrower the lowet interest rate possible based on a pool of assets that the company manages."
   ]
  },
  {
   "cell_type": "code",
   "execution_count": 1,
   "metadata": {},
   "outputs": [],
   "source": [
    "import pandas as pd\n",
    "import numpy as np\n",
    "import sys\n",
    "\n",
    "sys.path.append('../')"
   ]
  },
  {
   "cell_type": "code",
   "execution_count": 12,
   "metadata": {
    "scrolled": true
   },
   "outputs": [],
   "source": [
    "from LoanCalculatorFunction.LoanCalculator import interest_giver\n",
    "from LoanCalculatorFunction.LoanCalculator import reset_database"
   ]
  },
  {
   "cell_type": "code",
   "execution_count": 22,
   "metadata": {
    "scrolled": true
   },
   "outputs": [
    {
     "name": "stdout",
     "output_type": "stream",
     "text": [
      "\n",
      "        Requested Amount: €1600\n",
      "        Rate: 7.09%\n",
      "        Monthly repayment: €49.47\n",
      "        Total repayment €1780.98\n"
     ]
    }
   ],
   "source": [
    "print(interest_giver (1600, update = True))"
   ]
  },
  {
   "cell_type": "code",
   "execution_count": 23,
   "metadata": {},
   "outputs": [],
   "source": [
    "reset_database(True)"
   ]
  },
  {
   "cell_type": "code",
   "execution_count": 188,
   "metadata": {},
   "outputs": [],
   "source": [
    "def interest_giver (y, x = \"../Data/Zopa_data2.csv\", update = False):\n",
    "    x = pd.read_csv(x)\n",
    "    \n",
    "    #First we discard the values that are not regarded in the project\n",
    "    \n",
    "    if y < 1000 or y > 15000:\n",
    "        return \"The loan amount should be between 1000 and 15000\"\n",
    "    elif y % 100 != 0:\n",
    "        return \"The loan amount must be a multiple of 100\"\n",
    "    elif y > sum(x[\"Available\"]):\n",
    "        return \"Your loan could not be processed, not enough funds\"\n",
    "    \n",
    "    #Then we sort the rate values in the dataframe in order to have the lowest rates first\n",
    "    #we also return the users that will be lending money in order of lowest to highest interest rate\n",
    "    \n",
    "    else:\n",
    "        x = x.sort_values(by = \"Rate\")\n",
    "        suma = 0\n",
    "        i = 0\n",
    "        while suma < y:\n",
    "            suma += x.iloc[i,2]\n",
    "            i += 1\n",
    "        excess = suma - y\n",
    "        ponderado = (x.iloc[i-1,2] - excess)*(x.iloc[i-1,1])\n",
    "        for n in range(0,i-1):\n",
    "            ponderado += x.iloc[n,1]*x.iloc[n,2]\n",
    "        interest_rate = ponderado/y\n",
    "  \n",
    "    #next, we compute the weighted interest rate and the monthly and total payments\n",
    "    \n",
    "        rate = interest_rate*100\n",
    "        interest_per_period = interest_rate/12\n",
    "        denominador = ((1 + interest_per_period)**36)-1\n",
    "        payment_per_month = y*((interest_per_period*(1 + interest_per_period)**36)/denominador)\n",
    "        total_payment = payment_per_month*36\n",
    "        \n",
    "    #the last step is to programm the function so if the update parameter is set to true, the database \n",
    "    #gets updated with the new data\n",
    "        \n",
    "        if update == True:\n",
    "            x = x.reset_index()\n",
    "            x.drop(range(0,i-1), inplace=True)\n",
    "            x.drop(\"index\", axis=1, inplace=True)\n",
    "            x.iloc[0,2] = excess\n",
    "            x.to_csv(\"../Data/Zopa_data2.csv\", index = False)\n",
    "            \n",
    "        return \"\"\"\n",
    "        Requested Amount: €{}\n",
    "        Rate: {:.2f}%\n",
    "        Monthly repayment: €{:.2f}\n",
    "        Total repayment €{:.2f}\"\"\".format(y, rate, payment_per_month, total_payment)"
   ]
  },
  {
   "cell_type": "code",
   "execution_count": 197,
   "metadata": {
    "scrolled": false
   },
   "outputs": [
    {
     "name": "stdout",
     "output_type": "stream",
     "text": [
      "\n",
      "        Requested Amount: €13000\n",
      "        Rate: 6.66%\n",
      "        Monthly repayment: €399.41\n",
      "        Total repayment €14378.74\n"
     ]
    }
   ],
   "source": [
    "print(interest_giver(13000, update= True))"
   ]
  },
  {
   "cell_type": "code",
   "execution_count": 195,
   "metadata": {},
   "outputs": [],
   "source": [
    "def reset_database(x):\n",
    "    if x == True:\n",
    "        p = pd.read_csv(\"../Data/Zopa_data2Copy.csv\")\n",
    "        p.to_csv(\"../Data/Zopa_data2.csv\", index=False)"
   ]
  },
  {
   "cell_type": "code",
   "execution_count": 196,
   "metadata": {},
   "outputs": [],
   "source": [
    "reset_database(True)"
   ]
  }
 ],
 "metadata": {
  "kernelspec": {
   "display_name": "Python 3",
   "language": "python",
   "name": "python3"
  },
  "language_info": {
   "codemirror_mode": {
    "name": "ipython",
    "version": 3
   },
   "file_extension": ".py",
   "mimetype": "text/x-python",
   "name": "python",
   "nbconvert_exporter": "python",
   "pygments_lexer": "ipython3",
   "version": "3.6.9"
  }
 },
 "nbformat": 4,
 "nbformat_minor": 4
}
