{
 "cells": [
  {
   "cell_type": "markdown",
   "metadata": {},
   "source": [
    "This is the sheet for computing Zopa's business case, in which we have to give a borrower the lowet interest rate possible based on a pool of assets that the company manages."
   ]
  },
  {
   "cell_type": "code",
   "execution_count": 1,
   "metadata": {},
   "outputs": [],
   "source": [
    "import pandas as pd\n",
    "import numpy as np"
   ]
  },
  {
   "cell_type": "code",
   "execution_count": 7,
   "metadata": {},
   "outputs": [],
   "source": [
    "data = pd.read_csv(\"Documents/Zopa_data.csv\")"
   ]
  },
  {
   "cell_type": "code",
   "execution_count": 51,
   "metadata": {},
   "outputs": [
    {
     "data": {
      "text/html": [
       "<div>\n",
       "<style scoped>\n",
       "    .dataframe tbody tr th:only-of-type {\n",
       "        vertical-align: middle;\n",
       "    }\n",
       "\n",
       "    .dataframe tbody tr th {\n",
       "        vertical-align: top;\n",
       "    }\n",
       "\n",
       "    .dataframe thead th {\n",
       "        text-align: right;\n",
       "    }\n",
       "</style>\n",
       "<table border=\"1\" class=\"dataframe\">\n",
       "  <thead>\n",
       "    <tr style=\"text-align: right;\">\n",
       "      <th></th>\n",
       "      <th>Lender</th>\n",
       "      <th>Rate</th>\n",
       "      <th>Available</th>\n",
       "    </tr>\n",
       "  </thead>\n",
       "  <tbody>\n",
       "    <tr>\n",
       "      <th>1</th>\n",
       "      <td>Jane</td>\n",
       "      <td>0.069</td>\n",
       "      <td>480</td>\n",
       "    </tr>\n",
       "    <tr>\n",
       "      <th>2</th>\n",
       "      <td>Fred</td>\n",
       "      <td>0.071</td>\n",
       "      <td>520</td>\n",
       "    </tr>\n",
       "    <tr>\n",
       "      <th>6</th>\n",
       "      <td>Angela</td>\n",
       "      <td>0.071</td>\n",
       "      <td>60</td>\n",
       "    </tr>\n",
       "    <tr>\n",
       "      <th>5</th>\n",
       "      <td>Dave</td>\n",
       "      <td>0.074</td>\n",
       "      <td>140</td>\n",
       "    </tr>\n",
       "    <tr>\n",
       "      <th>0</th>\n",
       "      <td>Bob</td>\n",
       "      <td>0.075</td>\n",
       "      <td>640</td>\n",
       "    </tr>\n",
       "    <tr>\n",
       "      <th>4</th>\n",
       "      <td>John</td>\n",
       "      <td>0.081</td>\n",
       "      <td>320</td>\n",
       "    </tr>\n",
       "    <tr>\n",
       "      <th>3</th>\n",
       "      <td>Mary</td>\n",
       "      <td>0.104</td>\n",
       "      <td>170</td>\n",
       "    </tr>\n",
       "  </tbody>\n",
       "</table>\n",
       "</div>"
      ],
      "text/plain": [
       "   Lender   Rate  Available\n",
       "1    Jane  0.069        480\n",
       "2    Fred  0.071        520\n",
       "6  Angela  0.071         60\n",
       "5    Dave  0.074        140\n",
       "0     Bob  0.075        640\n",
       "4    John  0.081        320\n",
       "3    Mary  0.104        170"
      ]
     },
     "execution_count": 51,
     "metadata": {},
     "output_type": "execute_result"
    }
   ],
   "source": [
    "pd.read_csv(\"Documents/Zopa_data.csv\").sort_values(by=\"Rate\")"
   ]
  },
  {
   "cell_type": "code",
   "execution_count": 68,
   "metadata": {},
   "outputs": [],
   "source": [
    "def interest_giver (x,y):\n",
    "    if y < 1000 or y > 15000:\n",
    "        return \"The loan amount should be between 1000 and 15000\"\n",
    "    elif y % 100 != 0:\n",
    "        return \"The loan amount must be a multiple of 100\"\n",
    "    elif y > sum(x[\"Available\"]):\n",
    "        return \"Your loan could not be processed, not enough funds\"\n",
    "    else:\n",
    "        min_rate = min(x[\"Rate\"])\n",
    "        x = x.sort_values(by = \"Rate\")\n",
    "        suma = 0\n",
    "        i = 0\n",
    "        rates = []\n",
    "        while suma < y:\n",
    "            suma += x.iloc[i,2]\n",
    "            rates.append(x.iloc[i,1])\n",
    "            i += 1\n",
    "        excess = suma - y\n",
    "        ponderado = (x.iloc[i-1,2] - excess)*(x.iloc[i-1,1])\n",
    "        for n in range(0,i-1):\n",
    "            ponderado += x.iloc[n,1]*x.iloc[n,2]\n",
    "        interest_rate = ponderado/y\n",
    "        return interest_rate"
   ]
  },
  {
   "cell_type": "code",
   "execution_count": 69,
   "metadata": {},
   "outputs": [
    {
     "data": {
      "text/plain": [
       "0.07089230769230769"
      ]
     },
     "execution_count": 69,
     "metadata": {},
     "output_type": "execute_result"
    }
   ],
   "source": [
    "interest_giver (data, 1300)"
   ]
  },
  {
   "cell_type": "code",
   "execution_count": null,
   "metadata": {},
   "outputs": [],
   "source": [
    "for n in range(0,i-2):\n",
    "            ponderado += x.iloc[n,1]*x.iloc[n,2]\n",
    "        interest_rate = ponderado/y\n",
    "        return interest_rate"
   ]
  }
 ],
 "metadata": {
  "kernelspec": {
   "display_name": "Python 3",
   "language": "python",
   "name": "python3"
  },
  "language_info": {
   "codemirror_mode": {
    "name": "ipython",
    "version": 3
   },
   "file_extension": ".py",
   "mimetype": "text/x-python",
   "name": "python",
   "nbconvert_exporter": "python",
   "pygments_lexer": "ipython3",
   "version": "3.6.9"
  }
 },
 "nbformat": 4,
 "nbformat_minor": 4
}
